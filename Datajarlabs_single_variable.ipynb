{
  "nbformat": 4,
  "nbformat_minor": 0,
  "metadata": {
    "colab": {
      "name": "Datajarlabs_single_variable.ipynb",
      "provenance": []
    },
    "kernelspec": {
      "name": "python3",
      "display_name": "Python 3"
    }
  },
  "cells": [
    {
      "cell_type": "markdown",
      "metadata": {
        "id": "eLtUibqik_Q7",
        "colab_type": "text"
      },
      "source": [
        "\n",
        "Tek değişkenli analiz yaparak verileri yorumlayın, önemli gördüğünüz noktaları belirtin.\n",
        "\n",
        "Bir eyaleti ele alın (ör: California) ve toplam gelirleri ile toplam harcamalarının yıllara göre değişiminin doğru grafiğini çizin. Bu iki değişken yıllara göre değişim göstermekte midir? Zirve ve dip yaptığı yıllar var mı?\n",
        "\n",
        "Seçtiğiniz eyalette, öğrenciler hangi derste daha başarılı? Matematik mi yoksa okuma mı?\n",
        "\n",
        "Matematik ve okuma notlarının dağılımı nedir?\n",
        "\n",
        "Metematik ve okuma notlarında birçok eksik değer olduğunu farketmişsinizdir. Eksik değerleri ortalama, medyan ve enterpolasyon ile tamamlayın. Bu tekniklerin notların dağılımı üzerindeki etkisini karşılaştırın."
      ]
    },
    {
      "cell_type": "code",
      "metadata": {
        "id": "NOlkb1rTk2cH",
        "colab_type": "code",
        "outputId": "76443896-3521-403e-a4ea-f0efd79677b4",
        "colab": {
          "resources": {
            "http://localhost:8080/nbextensions/google.colab/files.js": {
              "data": "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",
              "ok": true,
              "headers": [
                [
                  "content-type",
                  "application/javascript"
                ]
              ],
              "status": 200,
              "status_text": ""
            }
          },
          "base_uri": "https://localhost:8080/",
          "height": 530
        }
      },
      "source": [
        "import matplotlib.pyplot as plt\n",
        "import seaborn as sns\n",
        "import numpy as np\n",
        "import pandas as pd\n",
        "import scipy.stats as stats\n",
        "from scipy.stats.mstats import winsorize\n",
        "import warnings\n",
        "from google.colab import files\n",
        "uploaded = files.upload()\n",
        "\n",
        "df = pd.read_csv('states_all.csv')\n",
        "df"
      ],
      "execution_count": 0,
      "outputs": [
        {
          "output_type": "stream",
          "text": [
            "/usr/local/lib/python3.6/dist-packages/statsmodels/tools/_testing.py:19: FutureWarning: pandas.util.testing is deprecated. Use the functions in the public API at pandas.testing instead.\n",
            "  import pandas.util.testing as tm\n"
          ],
          "name": "stderr"
        },
        {
          "output_type": "display_data",
          "data": {
            "text/html": [
              "\n",
              "     <input type=\"file\" id=\"files-6e40f011-8881-4a5a-9bf0-d0bc91d7b2ba\" name=\"files[]\" multiple disabled />\n",
              "     <output id=\"result-6e40f011-8881-4a5a-9bf0-d0bc91d7b2ba\">\n",
              "      Upload widget is only available when the cell has been executed in the\n",
              "      current browser session. Please rerun this cell to enable.\n",
              "      </output>\n",
              "      <script src=\"/nbextensions/google.colab/files.js\"></script> "
            ],
            "text/plain": [
              "<IPython.core.display.HTML object>"
            ]
          },
          "metadata": {
            "tags": []
          }
        },
        {
          "output_type": "stream",
          "text": [
            "Saving states_all.csv to states_all.csv\n"
          ],
          "name": "stdout"
        },
        {
          "output_type": "execute_result",
          "data": {
            "text/html": [
              "<div>\n",
              "<style scoped>\n",
              "    .dataframe tbody tr th:only-of-type {\n",
              "        vertical-align: middle;\n",
              "    }\n",
              "\n",
              "    .dataframe tbody tr th {\n",
              "        vertical-align: top;\n",
              "    }\n",
              "\n",
              "    .dataframe thead th {\n",
              "        text-align: right;\n",
              "    }\n",
              "</style>\n",
              "<table border=\"1\" class=\"dataframe\">\n",
              "  <thead>\n",
              "    <tr style=\"text-align: right;\">\n",
              "      <th></th>\n",
              "      <th>PRIMARY_KEY</th>\n",
              "      <th>STATE</th>\n",
              "      <th>YEAR</th>\n",
              "      <th>ENROLL</th>\n",
              "      <th>TOTAL_REVENUE</th>\n",
              "      <th>FEDERAL_REVENUE</th>\n",
              "      <th>STATE_REVENUE</th>\n",
              "      <th>LOCAL_REVENUE</th>\n",
              "      <th>TOTAL_EXPENDITURE</th>\n",
              "      <th>INSTRUCTION_EXPENDITURE</th>\n",
              "      <th>SUPPORT_SERVICES_EXPENDITURE</th>\n",
              "      <th>OTHER_EXPENDITURE</th>\n",
              "      <th>CAPITAL_OUTLAY_EXPENDITURE</th>\n",
              "      <th>GRADES_PK_G</th>\n",
              "      <th>GRADES_KG_G</th>\n",
              "      <th>GRADES_4_G</th>\n",
              "      <th>GRADES_8_G</th>\n",
              "      <th>GRADES_12_G</th>\n",
              "      <th>GRADES_1_8_G</th>\n",
              "      <th>GRADES_9_12_G</th>\n",
              "      <th>GRADES_ALL_G</th>\n",
              "      <th>AVG_MATH_4_SCORE</th>\n",
              "      <th>AVG_MATH_8_SCORE</th>\n",
              "      <th>AVG_READING_4_SCORE</th>\n",
              "      <th>AVG_READING_8_SCORE</th>\n",
              "    </tr>\n",
              "  </thead>\n",
              "  <tbody>\n",
              "    <tr>\n",
              "      <th>0</th>\n",
              "      <td>1992_ALABAMA</td>\n",
              "      <td>ALABAMA</td>\n",
              "      <td>1992</td>\n",
              "      <td>NaN</td>\n",
              "      <td>2678885.0</td>\n",
              "      <td>304177.0</td>\n",
              "      <td>1659028.0</td>\n",
              "      <td>715680.0</td>\n",
              "      <td>2653798.0</td>\n",
              "      <td>1481703.0</td>\n",
              "      <td>735036.0</td>\n",
              "      <td>NaN</td>\n",
              "      <td>174053.0</td>\n",
              "      <td>8224.0</td>\n",
              "      <td>55460.0</td>\n",
              "      <td>57948.0</td>\n",
              "      <td>58025.0</td>\n",
              "      <td>41167.0</td>\n",
              "      <td>NaN</td>\n",
              "      <td>NaN</td>\n",
              "      <td>731634.0</td>\n",
              "      <td>208.327876</td>\n",
              "      <td>252.187522</td>\n",
              "      <td>207.963517</td>\n",
              "      <td>NaN</td>\n",
              "    </tr>\n",
              "    <tr>\n",
              "      <th>1</th>\n",
              "      <td>1992_ALASKA</td>\n",
              "      <td>ALASKA</td>\n",
              "      <td>1992</td>\n",
              "      <td>NaN</td>\n",
              "      <td>1049591.0</td>\n",
              "      <td>106780.0</td>\n",
              "      <td>720711.0</td>\n",
              "      <td>222100.0</td>\n",
              "      <td>972488.0</td>\n",
              "      <td>498362.0</td>\n",
              "      <td>350902.0</td>\n",
              "      <td>NaN</td>\n",
              "      <td>37451.0</td>\n",
              "      <td>2371.0</td>\n",
              "      <td>10152.0</td>\n",
              "      <td>9748.0</td>\n",
              "      <td>8789.0</td>\n",
              "      <td>6714.0</td>\n",
              "      <td>NaN</td>\n",
              "      <td>NaN</td>\n",
              "      <td>122487.0</td>\n",
              "      <td>NaN</td>\n",
              "      <td>NaN</td>\n",
              "      <td>NaN</td>\n",
              "      <td>258.859712</td>\n",
              "    </tr>\n",
              "    <tr>\n",
              "      <th>2</th>\n",
              "      <td>1992_ARIZONA</td>\n",
              "      <td>ARIZONA</td>\n",
              "      <td>1992</td>\n",
              "      <td>NaN</td>\n",
              "      <td>3258079.0</td>\n",
              "      <td>297888.0</td>\n",
              "      <td>1369815.0</td>\n",
              "      <td>1590376.0</td>\n",
              "      <td>3401580.0</td>\n",
              "      <td>1435908.0</td>\n",
              "      <td>1007732.0</td>\n",
              "      <td>NaN</td>\n",
              "      <td>609114.0</td>\n",
              "      <td>2544.0</td>\n",
              "      <td>53497.0</td>\n",
              "      <td>55433.0</td>\n",
              "      <td>49081.0</td>\n",
              "      <td>37410.0</td>\n",
              "      <td>NaN</td>\n",
              "      <td>NaN</td>\n",
              "      <td>673477.0</td>\n",
              "      <td>215.253932</td>\n",
              "      <td>265.366278</td>\n",
              "      <td>206.212716</td>\n",
              "      <td>262.169895</td>\n",
              "    </tr>\n",
              "    <tr>\n",
              "      <th>3</th>\n",
              "      <td>1992_ARKANSAS</td>\n",
              "      <td>ARKANSAS</td>\n",
              "      <td>1992</td>\n",
              "      <td>NaN</td>\n",
              "      <td>1711959.0</td>\n",
              "      <td>178571.0</td>\n",
              "      <td>958785.0</td>\n",
              "      <td>574603.0</td>\n",
              "      <td>1743022.0</td>\n",
              "      <td>964323.0</td>\n",
              "      <td>483488.0</td>\n",
              "      <td>NaN</td>\n",
              "      <td>145212.0</td>\n",
              "      <td>808.0</td>\n",
              "      <td>33511.0</td>\n",
              "      <td>34632.0</td>\n",
              "      <td>36011.0</td>\n",
              "      <td>27651.0</td>\n",
              "      <td>NaN</td>\n",
              "      <td>NaN</td>\n",
              "      <td>441490.0</td>\n",
              "      <td>210.206028</td>\n",
              "      <td>256.312090</td>\n",
              "      <td>208.634458</td>\n",
              "      <td>264.619665</td>\n",
              "    </tr>\n",
              "    <tr>\n",
              "      <th>4</th>\n",
              "      <td>1992_CALIFORNIA</td>\n",
              "      <td>CALIFORNIA</td>\n",
              "      <td>1992</td>\n",
              "      <td>NaN</td>\n",
              "      <td>26260025.0</td>\n",
              "      <td>2072470.0</td>\n",
              "      <td>16546514.0</td>\n",
              "      <td>7641041.0</td>\n",
              "      <td>27138832.0</td>\n",
              "      <td>14358922.0</td>\n",
              "      <td>8520926.0</td>\n",
              "      <td>NaN</td>\n",
              "      <td>2044688.0</td>\n",
              "      <td>59067.0</td>\n",
              "      <td>431763.0</td>\n",
              "      <td>418418.0</td>\n",
              "      <td>363296.0</td>\n",
              "      <td>270675.0</td>\n",
              "      <td>NaN</td>\n",
              "      <td>NaN</td>\n",
              "      <td>5254844.0</td>\n",
              "      <td>208.398961</td>\n",
              "      <td>260.892247</td>\n",
              "      <td>196.764414</td>\n",
              "      <td>NaN</td>\n",
              "    </tr>\n",
              "    <tr>\n",
              "      <th>...</th>\n",
              "      <td>...</td>\n",
              "      <td>...</td>\n",
              "      <td>...</td>\n",
              "      <td>...</td>\n",
              "      <td>...</td>\n",
              "      <td>...</td>\n",
              "      <td>...</td>\n",
              "      <td>...</td>\n",
              "      <td>...</td>\n",
              "      <td>...</td>\n",
              "      <td>...</td>\n",
              "      <td>...</td>\n",
              "      <td>...</td>\n",
              "      <td>...</td>\n",
              "      <td>...</td>\n",
              "      <td>...</td>\n",
              "      <td>...</td>\n",
              "      <td>...</td>\n",
              "      <td>...</td>\n",
              "      <td>...</td>\n",
              "      <td>...</td>\n",
              "      <td>...</td>\n",
              "      <td>...</td>\n",
              "      <td>...</td>\n",
              "      <td>...</td>\n",
              "    </tr>\n",
              "    <tr>\n",
              "      <th>1913</th>\n",
              "      <td>2017_NORTH_DAKOTA</td>\n",
              "      <td>NORTH_DAKOTA</td>\n",
              "      <td>2017</td>\n",
              "      <td>NaN</td>\n",
              "      <td>NaN</td>\n",
              "      <td>NaN</td>\n",
              "      <td>NaN</td>\n",
              "      <td>NaN</td>\n",
              "      <td>NaN</td>\n",
              "      <td>NaN</td>\n",
              "      <td>NaN</td>\n",
              "      <td>NaN</td>\n",
              "      <td>NaN</td>\n",
              "      <td>NaN</td>\n",
              "      <td>NaN</td>\n",
              "      <td>NaN</td>\n",
              "      <td>NaN</td>\n",
              "      <td>NaN</td>\n",
              "      <td>NaN</td>\n",
              "      <td>NaN</td>\n",
              "      <td>NaN</td>\n",
              "      <td>244.243515</td>\n",
              "      <td>288.172322</td>\n",
              "      <td>221.519266</td>\n",
              "      <td>262.720477</td>\n",
              "    </tr>\n",
              "    <tr>\n",
              "      <th>1914</th>\n",
              "      <td>2017_RHODE_ISLAND</td>\n",
              "      <td>RHODE_ISLAND</td>\n",
              "      <td>2017</td>\n",
              "      <td>NaN</td>\n",
              "      <td>NaN</td>\n",
              "      <td>NaN</td>\n",
              "      <td>NaN</td>\n",
              "      <td>NaN</td>\n",
              "      <td>NaN</td>\n",
              "      <td>NaN</td>\n",
              "      <td>NaN</td>\n",
              "      <td>NaN</td>\n",
              "      <td>NaN</td>\n",
              "      <td>NaN</td>\n",
              "      <td>NaN</td>\n",
              "      <td>NaN</td>\n",
              "      <td>NaN</td>\n",
              "      <td>NaN</td>\n",
              "      <td>NaN</td>\n",
              "      <td>NaN</td>\n",
              "      <td>NaN</td>\n",
              "      <td>237.554934</td>\n",
              "      <td>277.180126</td>\n",
              "      <td>223.353443</td>\n",
              "      <td>269.553823</td>\n",
              "    </tr>\n",
              "    <tr>\n",
              "      <th>1915</th>\n",
              "      <td>2017_SOUTH_CAROLINA</td>\n",
              "      <td>SOUTH_CAROLINA</td>\n",
              "      <td>2017</td>\n",
              "      <td>NaN</td>\n",
              "      <td>NaN</td>\n",
              "      <td>NaN</td>\n",
              "      <td>NaN</td>\n",
              "      <td>NaN</td>\n",
              "      <td>NaN</td>\n",
              "      <td>NaN</td>\n",
              "      <td>NaN</td>\n",
              "      <td>NaN</td>\n",
              "      <td>NaN</td>\n",
              "      <td>NaN</td>\n",
              "      <td>NaN</td>\n",
              "      <td>NaN</td>\n",
              "      <td>NaN</td>\n",
              "      <td>NaN</td>\n",
              "      <td>NaN</td>\n",
              "      <td>NaN</td>\n",
              "      <td>NaN</td>\n",
              "      <td>234.043993</td>\n",
              "      <td>274.673821</td>\n",
              "      <td>213.127835</td>\n",
              "      <td>265.767860</td>\n",
              "    </tr>\n",
              "    <tr>\n",
              "      <th>1916</th>\n",
              "      <td>2017_SOUTH_DAKOTA</td>\n",
              "      <td>SOUTH_DAKOTA</td>\n",
              "      <td>2017</td>\n",
              "      <td>NaN</td>\n",
              "      <td>NaN</td>\n",
              "      <td>NaN</td>\n",
              "      <td>NaN</td>\n",
              "      <td>NaN</td>\n",
              "      <td>NaN</td>\n",
              "      <td>NaN</td>\n",
              "      <td>NaN</td>\n",
              "      <td>NaN</td>\n",
              "      <td>NaN</td>\n",
              "      <td>NaN</td>\n",
              "      <td>NaN</td>\n",
              "      <td>NaN</td>\n",
              "      <td>NaN</td>\n",
              "      <td>NaN</td>\n",
              "      <td>NaN</td>\n",
              "      <td>NaN</td>\n",
              "      <td>NaN</td>\n",
              "      <td>241.588947</td>\n",
              "      <td>286.376160</td>\n",
              "      <td>221.750123</td>\n",
              "      <td>259.753002</td>\n",
              "    </tr>\n",
              "    <tr>\n",
              "      <th>1917</th>\n",
              "      <td>2017_WEST_VIRGINIA</td>\n",
              "      <td>WEST_VIRGINIA</td>\n",
              "      <td>2017</td>\n",
              "      <td>NaN</td>\n",
              "      <td>NaN</td>\n",
              "      <td>NaN</td>\n",
              "      <td>NaN</td>\n",
              "      <td>NaN</td>\n",
              "      <td>NaN</td>\n",
              "      <td>NaN</td>\n",
              "      <td>NaN</td>\n",
              "      <td>NaN</td>\n",
              "      <td>NaN</td>\n",
              "      <td>NaN</td>\n",
              "      <td>NaN</td>\n",
              "      <td>NaN</td>\n",
              "      <td>NaN</td>\n",
              "      <td>NaN</td>\n",
              "      <td>NaN</td>\n",
              "      <td>NaN</td>\n",
              "      <td>NaN</td>\n",
              "      <td>236.057019</td>\n",
              "      <td>273.415854</td>\n",
              "      <td>217.316396</td>\n",
              "      <td>271.617023</td>\n",
              "    </tr>\n",
              "  </tbody>\n",
              "</table>\n",
              "<p>1918 rows × 25 columns</p>\n",
              "</div>"
            ],
            "text/plain": [
              "              PRIMARY_KEY  ... AVG_READING_8_SCORE\n",
              "0            1992_ALABAMA  ...                 NaN\n",
              "1             1992_ALASKA  ...          258.859712\n",
              "2            1992_ARIZONA  ...          262.169895\n",
              "3           1992_ARKANSAS  ...          264.619665\n",
              "4         1992_CALIFORNIA  ...                 NaN\n",
              "...                   ...  ...                 ...\n",
              "1913    2017_NORTH_DAKOTA  ...          262.720477\n",
              "1914    2017_RHODE_ISLAND  ...          269.553823\n",
              "1915  2017_SOUTH_CAROLINA  ...          265.767860\n",
              "1916    2017_SOUTH_DAKOTA  ...          259.753002\n",
              "1917   2017_WEST_VIRGINIA  ...          271.617023\n",
              "\n",
              "[1918 rows x 25 columns]"
            ]
          },
          "metadata": {
            "tags": []
          },
          "execution_count": 1
        }
      ]
    },
    {
      "cell_type": "code",
      "metadata": {
        "id": "f3jP5dUNvY6l",
        "colab_type": "code",
        "colab": {}
      },
      "source": [
        "states = df.copy ()"
      ],
      "execution_count": 0,
      "outputs": []
    },
    {
      "cell_type": "code",
      "metadata": {
        "id": "c1cY4RnfwH4c",
        "colab_type": "code",
        "outputId": "89c4ed5a-86ad-4ec3-ff3b-e963c6284ce5",
        "colab": {
          "base_uri": "https://localhost:8080/",
          "height": 317
        }
      },
      "source": [
        "states.describe ()"
      ],
      "execution_count": 0,
      "outputs": [
        {
          "output_type": "execute_result",
          "data": {
            "text/html": [
              "<div>\n",
              "<style scoped>\n",
              "    .dataframe tbody tr th:only-of-type {\n",
              "        vertical-align: middle;\n",
              "    }\n",
              "\n",
              "    .dataframe tbody tr th {\n",
              "        vertical-align: top;\n",
              "    }\n",
              "\n",
              "    .dataframe thead th {\n",
              "        text-align: right;\n",
              "    }\n",
              "</style>\n",
              "<table border=\"1\" class=\"dataframe\">\n",
              "  <thead>\n",
              "    <tr style=\"text-align: right;\">\n",
              "      <th></th>\n",
              "      <th>YEAR</th>\n",
              "      <th>ENROLL</th>\n",
              "      <th>TOTAL_REVENUE</th>\n",
              "      <th>FEDERAL_REVENUE</th>\n",
              "      <th>STATE_REVENUE</th>\n",
              "      <th>LOCAL_REVENUE</th>\n",
              "      <th>TOTAL_EXPENDITURE</th>\n",
              "      <th>INSTRUCTION_EXPENDITURE</th>\n",
              "      <th>SUPPORT_SERVICES_EXPENDITURE</th>\n",
              "      <th>OTHER_EXPENDITURE</th>\n",
              "      <th>CAPITAL_OUTLAY_EXPENDITURE</th>\n",
              "      <th>GRADES_PK_G</th>\n",
              "      <th>GRADES_KG_G</th>\n",
              "      <th>GRADES_4_G</th>\n",
              "      <th>GRADES_8_G</th>\n",
              "      <th>GRADES_12_G</th>\n",
              "      <th>GRADES_1_8_G</th>\n",
              "      <th>GRADES_9_12_G</th>\n",
              "      <th>GRADES_ALL_G</th>\n",
              "      <th>AVG_MATH_4_SCORE</th>\n",
              "      <th>AVG_MATH_8_SCORE</th>\n",
              "      <th>AVG_READING_4_SCORE</th>\n",
              "      <th>AVG_READING_8_SCORE</th>\n",
              "    </tr>\n",
              "  </thead>\n",
              "  <tbody>\n",
              "    <tr>\n",
              "      <th>count</th>\n",
              "      <td>1918.000000</td>\n",
              "      <td>1.224000e+03</td>\n",
              "      <td>1.275000e+03</td>\n",
              "      <td>1.275000e+03</td>\n",
              "      <td>1.275000e+03</td>\n",
              "      <td>1.275000e+03</td>\n",
              "      <td>1.275000e+03</td>\n",
              "      <td>1.275000e+03</td>\n",
              "      <td>1.275000e+03</td>\n",
              "      <td>1.224000e+03</td>\n",
              "      <td>1.275000e+03</td>\n",
              "      <td>1542.000000</td>\n",
              "      <td>1632.000000</td>\n",
              "      <td>1632.000000</td>\n",
              "      <td>1632.000000</td>\n",
              "      <td>1632.000000</td>\n",
              "      <td>1.020000e+03</td>\n",
              "      <td>1.071000e+03</td>\n",
              "      <td>1.632000e+03</td>\n",
              "      <td>535.000000</td>\n",
              "      <td>531.000000</td>\n",
              "      <td>532.000000</td>\n",
              "      <td>497.000000</td>\n",
              "    </tr>\n",
              "    <tr>\n",
              "      <th>mean</th>\n",
              "      <td>2001.947341</td>\n",
              "      <td>9.175416e+05</td>\n",
              "      <td>9.102045e+06</td>\n",
              "      <td>7.677799e+05</td>\n",
              "      <td>4.223743e+06</td>\n",
              "      <td>4.110522e+06</td>\n",
              "      <td>9.206242e+06</td>\n",
              "      <td>4.768010e+06</td>\n",
              "      <td>2.682587e+06</td>\n",
              "      <td>4.299509e+05</td>\n",
              "      <td>9.034675e+05</td>\n",
              "      <td>17840.958495</td>\n",
              "      <td>68810.962010</td>\n",
              "      <td>69166.507966</td>\n",
              "      <td>68106.537377</td>\n",
              "      <td>58420.870711</td>\n",
              "      <td>5.779547e+05</td>\n",
              "      <td>2.820691e+05</td>\n",
              "      <td>9.139695e+05</td>\n",
              "      <td>234.797280</td>\n",
              "      <td>278.461453</td>\n",
              "      <td>218.897886</td>\n",
              "      <td>263.683325</td>\n",
              "    </tr>\n",
              "    <tr>\n",
              "      <th>std</th>\n",
              "      <td>9.061480</td>\n",
              "      <td>1.066514e+06</td>\n",
              "      <td>1.175962e+07</td>\n",
              "      <td>1.146992e+06</td>\n",
              "      <td>5.549735e+06</td>\n",
              "      <td>5.489562e+06</td>\n",
              "      <td>1.199279e+07</td>\n",
              "      <td>6.300569e+06</td>\n",
              "      <td>3.357214e+06</td>\n",
              "      <td>5.347893e+05</td>\n",
              "      <td>1.329473e+06</td>\n",
              "      <td>30016.603510</td>\n",
              "      <td>80671.033008</td>\n",
              "      <td>79957.990356</td>\n",
              "      <td>77965.847263</td>\n",
              "      <td>67438.530709</td>\n",
              "      <td>6.757837e+05</td>\n",
              "      <td>3.307098e+05</td>\n",
              "      <td>1.055893e+06</td>\n",
              "      <td>10.209002</td>\n",
              "      <td>10.111886</td>\n",
              "      <td>7.742281</td>\n",
              "      <td>6.792513</td>\n",
              "    </tr>\n",
              "    <tr>\n",
              "      <th>min</th>\n",
              "      <td>1986.000000</td>\n",
              "      <td>4.386600e+04</td>\n",
              "      <td>4.656500e+05</td>\n",
              "      <td>3.102000e+04</td>\n",
              "      <td>0.000000e+00</td>\n",
              "      <td>2.209300e+04</td>\n",
              "      <td>4.816650e+05</td>\n",
              "      <td>2.655490e+05</td>\n",
              "      <td>1.399630e+05</td>\n",
              "      <td>1.154100e+04</td>\n",
              "      <td>1.270800e+04</td>\n",
              "      <td>96.000000</td>\n",
              "      <td>5122.000000</td>\n",
              "      <td>4577.000000</td>\n",
              "      <td>3371.000000</td>\n",
              "      <td>2572.000000</td>\n",
              "      <td>3.769800e+04</td>\n",
              "      <td>1.353000e+04</td>\n",
              "      <td>6.844900e+04</td>\n",
              "      <td>187.134670</td>\n",
              "      <td>232.831510</td>\n",
              "      <td>178.557612</td>\n",
              "      <td>236.379102</td>\n",
              "    </tr>\n",
              "    <tr>\n",
              "      <th>25%</th>\n",
              "      <td>1994.000000</td>\n",
              "      <td>2.645145e+05</td>\n",
              "      <td>2.189504e+06</td>\n",
              "      <td>1.899575e+05</td>\n",
              "      <td>1.165776e+06</td>\n",
              "      <td>7.151210e+05</td>\n",
              "      <td>2.170404e+06</td>\n",
              "      <td>1.171336e+06</td>\n",
              "      <td>6.380760e+05</td>\n",
              "      <td>1.034492e+05</td>\n",
              "      <td>1.815070e+05</td>\n",
              "      <td>2199.750000</td>\n",
              "      <td>19029.750000</td>\n",
              "      <td>18971.500000</td>\n",
              "      <td>19594.250000</td>\n",
              "      <td>16076.500000</td>\n",
              "      <td>1.649250e+05</td>\n",
              "      <td>8.060800e+04</td>\n",
              "      <td>2.480832e+05</td>\n",
              "      <td>229.752478</td>\n",
              "      <td>272.765806</td>\n",
              "      <td>214.741150</td>\n",
              "      <td>259.547225</td>\n",
              "    </tr>\n",
              "    <tr>\n",
              "      <th>50%</th>\n",
              "      <td>2002.000000</td>\n",
              "      <td>6.499335e+05</td>\n",
              "      <td>5.085826e+06</td>\n",
              "      <td>4.035480e+05</td>\n",
              "      <td>2.537754e+06</td>\n",
              "      <td>2.058996e+06</td>\n",
              "      <td>5.242672e+06</td>\n",
              "      <td>2.658253e+06</td>\n",
              "      <td>1.525471e+06</td>\n",
              "      <td>2.717040e+05</td>\n",
              "      <td>5.104280e+05</td>\n",
              "      <td>8258.000000</td>\n",
              "      <td>48122.000000</td>\n",
              "      <td>49087.000000</td>\n",
              "      <td>47880.000000</td>\n",
              "      <td>39408.000000</td>\n",
              "      <td>4.051115e+05</td>\n",
              "      <td>1.869190e+05</td>\n",
              "      <td>6.458050e+05</td>\n",
              "      <td>237.264821</td>\n",
              "      <td>280.619538</td>\n",
              "      <td>220.442392</td>\n",
              "      <td>265.022859</td>\n",
              "    </tr>\n",
              "    <tr>\n",
              "      <th>75%</th>\n",
              "      <td>2010.000000</td>\n",
              "      <td>1.010532e+06</td>\n",
              "      <td>1.084516e+07</td>\n",
              "      <td>8.279320e+05</td>\n",
              "      <td>5.055548e+06</td>\n",
              "      <td>4.755293e+06</td>\n",
              "      <td>1.074420e+07</td>\n",
              "      <td>5.561959e+06</td>\n",
              "      <td>3.222924e+06</td>\n",
              "      <td>5.172222e+05</td>\n",
              "      <td>9.661480e+05</td>\n",
              "      <td>22691.750000</td>\n",
              "      <td>78864.250000</td>\n",
              "      <td>78504.250000</td>\n",
              "      <td>78976.000000</td>\n",
              "      <td>69397.250000</td>\n",
              "      <td>6.439752e+05</td>\n",
              "      <td>3.223280e+05</td>\n",
              "      <td>1.043420e+06</td>\n",
              "      <td>242.000056</td>\n",
              "      <td>285.411348</td>\n",
              "      <td>224.005309</td>\n",
              "      <td>268.197443</td>\n",
              "    </tr>\n",
              "    <tr>\n",
              "      <th>max</th>\n",
              "      <td>2017.000000</td>\n",
              "      <td>6.307022e+06</td>\n",
              "      <td>8.921726e+07</td>\n",
              "      <td>9.990221e+06</td>\n",
              "      <td>5.090457e+07</td>\n",
              "      <td>3.610526e+07</td>\n",
              "      <td>8.532013e+07</td>\n",
              "      <td>4.396452e+07</td>\n",
              "      <td>2.605802e+07</td>\n",
              "      <td>3.995951e+06</td>\n",
              "      <td>1.022366e+07</td>\n",
              "      <td>256222.000000</td>\n",
              "      <td>535379.000000</td>\n",
              "      <td>493415.000000</td>\n",
              "      <td>500143.000000</td>\n",
              "      <td>498403.000000</td>\n",
              "      <td>3.929869e+06</td>\n",
              "      <td>2.013687e+06</td>\n",
              "      <td>6.441557e+06</td>\n",
              "      <td>253.420961</td>\n",
              "      <td>300.568235</td>\n",
              "      <td>236.773867</td>\n",
              "      <td>280.499130</td>\n",
              "    </tr>\n",
              "  </tbody>\n",
              "</table>\n",
              "</div>"
            ],
            "text/plain": [
              "              YEAR        ENROLL  ...  AVG_READING_4_SCORE  AVG_READING_8_SCORE\n",
              "count  1918.000000  1.224000e+03  ...           532.000000           497.000000\n",
              "mean   2001.947341  9.175416e+05  ...           218.897886           263.683325\n",
              "std       9.061480  1.066514e+06  ...             7.742281             6.792513\n",
              "min    1986.000000  4.386600e+04  ...           178.557612           236.379102\n",
              "25%    1994.000000  2.645145e+05  ...           214.741150           259.547225\n",
              "50%    2002.000000  6.499335e+05  ...           220.442392           265.022859\n",
              "75%    2010.000000  1.010532e+06  ...           224.005309           268.197443\n",
              "max    2017.000000  6.307022e+06  ...           236.773867           280.499130\n",
              "\n",
              "[8 rows x 23 columns]"
            ]
          },
          "metadata": {
            "tags": []
          },
          "execution_count": 4
        }
      ]
    },
    {
      "cell_type": "markdown",
      "metadata": {
        "id": "Q4Qxlxio0YaB",
        "colab_type": "text"
      },
      "source": [
        "1.Bir eyaleti ele alın (ör: California) ve toplam gelirleri ile toplam harcamalarının yıllara göre değişiminin doğru grafiğini çizin. Bu iki değişken yıllara göre değişim göstermekte midir? Zirve ve dip yaptığı yıllar var mı?\n"
      ]
    },
    {
      "cell_type": "code",
      "metadata": {
        "id": "q8fzQfkUwKQL",
        "colab_type": "code",
        "colab": {}
      },
      "source": [
        "expenditure = states[ states.STATE == 'CALIFORNIA'][\"TOTAL_EXPENDITURE\"]\n",
        "revenue = states[ states.STATE == 'CALIFORNIA'][\"TOTAL_REVENUE\"]\n",
        "year = states[ states.STATE == 'CALIFORNIA'][\"YEAR\"]"
      ],
      "execution_count": 0,
      "outputs": []
    },
    {
      "cell_type": "markdown",
      "metadata": {
        "id": "6gSqe0W106kU",
        "colab_type": "text"
      },
      "source": [
        ""
      ]
    },
    {
      "cell_type": "code",
      "metadata": {
        "id": "wprq7xjm1nzU",
        "colab_type": "code",
        "outputId": "b6bbe266-df8e-4046-d4c3-cf0b18f57c36",
        "colab": {
          "base_uri": "https://localhost:8080/",
          "height": 427
        }
      },
      "source": [
        "plt.figure(figsize=(6,4), dpi = 100)\n",
        "title_font = {'family': 'arial', 'color': 'darkgreen','weight': 'bold','size': 15 }\n",
        "axis_font  = {'family': 'arial', 'color': 'darkred','weight': 'bold','size': 12 }\n",
        "plt.title('Expenditure vs Revenue', fontdict = title_font)\n",
        "plt.xlabel('Year', fontdict = axis_font)\n",
        "plt.ylabel('Total Amount', fontdict = axis_font)\n",
        "plt.plot(year,revenue, color='purple')\n",
        "plt.plot(year,expenditure,color='blue')\n"
      ],
      "execution_count": 0,
      "outputs": [
        {
          "output_type": "execute_result",
          "data": {
            "text/plain": [
              "[<matplotlib.lines.Line2D at 0x7f4cfe9525c0>]"
            ]
          },
          "metadata": {
            "tags": []
          },
          "execution_count": 7
        },
        {
          "output_type": "display_data",
          "data": {
            "image/png": "[encoded data removed]",
            "text/plain": [
              "<Figure size 600x400 with 1 Axes>"
            ]
          },
          "metadata": {
            "tags": [],
            "needs_background": "light"
          }
        }
      ]
    },
    {
      "cell_type": "markdown",
      "metadata": {
        "id": "dOEd-9Dh2kh3",
        "colab_type": "text"
      },
      "source": [
        "There seems to be dips in 2005 and 2010"
      ]
    },
    {
      "cell_type": "markdown",
      "metadata": {
        "id": "JUVht2s51vHk",
        "colab_type": "text"
      },
      "source": [
        "Seçtiğiniz eyalette, öğrenciler hangi derste daha başarılı? Matematik mi yoksa okuma mı?"
      ]
    },
    {
      "cell_type": "code",
      "metadata": {
        "id": "dJtCTJwg16Oc",
        "colab_type": "code",
        "outputId": "55eb93b1-28e9-46b1-e544-3f61a493a559",
        "colab": {
          "base_uri": "https://localhost:8080/",
          "height": 34
        }
      },
      "source": [
        "grade4_difference = (states['AVG_MATH_4_SCORE'] - states['AVG_READING_4_SCORE'])\n",
        "grade4_difference.mean ()"
      ],
      "execution_count": 0,
      "outputs": [
        {
          "output_type": "execute_result",
          "data": {
            "text/plain": [
              "16.16226901756402"
            ]
          },
          "metadata": {
            "tags": []
          },
          "execution_count": 12
        }
      ]
    },
    {
      "cell_type": "code",
      "metadata": {
        "id": "8mbEX8Yt42fD",
        "colab_type": "code",
        "outputId": "d0b7fee2-c85e-4415-bdc6-2d874a416d00",
        "colab": {
          "base_uri": "https://localhost:8080/",
          "height": 34
        }
      },
      "source": [
        "grade8_difference = (states['AVG_MATH_8_SCORE'] - states['AVG_READING_8_SCORE'])\n",
        "grade8_difference.mean ()"
      ],
      "execution_count": 0,
      "outputs": [
        {
          "output_type": "execute_result",
          "data": {
            "text/plain": [
              "15.809274733233242"
            ]
          },
          "metadata": {
            "tags": []
          },
          "execution_count": 14
        }
      ]
    },
    {
      "cell_type": "markdown",
      "metadata": {
        "id": "kDZIqW8fT8FV",
        "colab_type": "text"
      },
      "source": [
        "It shows that math has higher success rate. "
      ]
    },
    {
      "cell_type": "markdown",
      "metadata": {
        "id": "aQhn5aji5wje",
        "colab_type": "text"
      },
      "source": [
        "Matematik ve okuma notlarının dağılımı nedir?\n"
      ]
    },
    {
      "cell_type": "code",
      "metadata": {
        "id": "HxoxdpxC5_Ms",
        "colab_type": "code",
        "outputId": "6987dc2d-e236-49f7-eb08-2840615a029d",
        "colab": {
          "base_uri": "https://localhost:8080/",
          "height": 179
        }
      },
      "source": [
        "test_scores = ['AVG_MATH_4_SCORE','AVG_MATH_8_SCORE', 'AVG_READING_4_SCORE', 'AVG_READING_8_SCORE']\n",
        "\n",
        "\n",
        "for i in range(4):\n",
        "    plt.subplot(4, 4, i+1)\n",
        "    plt.hist(states[test_scores[i]])\n",
        "    plt.title(test_scores[i])"
      ],
      "execution_count": 0,
      "outputs": [
        {
          "output_type": "stream",
          "text": [
            "/usr/local/lib/python3.6/dist-packages/numpy/lib/histograms.py:839: RuntimeWarning: invalid value encountered in greater_equal\n",
            "  keep = (tmp_a >= first_edge)\n",
            "/usr/local/lib/python3.6/dist-packages/numpy/lib/histograms.py:840: RuntimeWarning: invalid value encountered in less_equal\n",
            "  keep &= (tmp_a <= last_edge)\n"
          ],
          "name": "stderr"
        },
        {
          "output_type": "display_data",
          "data": {
            "image/png": "[encoded data removed]",
            "text/plain": [
              "<Figure size 432x288 with 4 Axes>"
            ]
          },
          "metadata": {
            "tags": [],
            "needs_background": "light"
          }
        }
      ]
    },
    {
      "cell_type": "markdown",
      "metadata": {
        "id": "-c1qPfsMUCFM",
        "colab_type": "text"
      },
      "source": [
        "They are close to normal dist. "
      ]
    },
    {
      "cell_type": "markdown",
      "metadata": {
        "id": "EGPGCGhi9Mtd",
        "colab_type": "text"
      },
      "source": [
        "Matematik ve okuma notlarında birçok eksik değer olduğunu farketmişsinizdir. Eksik değerleri ortalama, medyan ve enterpolasyon ile tamamlayın. Bu tekniklerin notların dağılımı üzerindeki etkisini karşılaştırın."
      ]
    },
    {
      "cell_type": "code",
      "metadata": {
        "id": "D2VljuA88_mw",
        "colab_type": "code",
        "colab": {}
      },
      "source": [
        "states2 = states.copy()\n",
        "fill_list = ['AVG_MATH_4_SCORE','AVG_MATH_8_SCORE', 'AVG_READING_4_SCORE', 'AVG_READING_8_SCORE']\n",
        "for col in fill_list:\n",
        "    states2.loc[:, col].fillna(states2.loc[:, col].mean(), inplace=True)"
      ],
      "execution_count": 0,
      "outputs": []
    },
    {
      "cell_type": "code",
      "metadata": {
        "id": "Fh9s0ATj9Yxs",
        "colab_type": "code",
        "colab": {}
      },
      "source": [
        "states3 = states.copy()\n",
        "fill_list = ['AVG_MATH_4_SCORE','AVG_MATH_8_SCORE', 'AVG_READING_4_SCORE', 'AVG_READING_8_SCORE']\n",
        "for col in fill_list:\n",
        "    states3.loc[:, col].fillna(states3.loc[:, col].median(), inplace=True)"
      ],
      "execution_count": 0,
      "outputs": []
    },
    {
      "cell_type": "code",
      "metadata": {
        "id": "0Bc0ghXO9gIU",
        "colab_type": "code",
        "colab": {}
      },
      "source": [
        "states4 = states.copy()\n",
        "for col in fill_list:\n",
        "    states4.loc[:,col].interpolate(inplace=True)"
      ],
      "execution_count": 0,
      "outputs": []
    },
    {
      "cell_type": "code",
      "metadata": {
        "id": "SO_njfJ7-V4k",
        "colab_type": "code",
        "outputId": "6cf275b8-5070-4c22-de7d-646c4e4a0ea9",
        "colab": {
          "base_uri": "https://localhost:8080/",
          "height": 297
        }
      },
      "source": [
        "states2[fill_list].describe()"
      ],
      "execution_count": 0,
      "outputs": [
        {
          "output_type": "execute_result",
          "data": {
            "text/html": [
              "<div>\n",
              "<style scoped>\n",
              "    .dataframe tbody tr th:only-of-type {\n",
              "        vertical-align: middle;\n",
              "    }\n",
              "\n",
              "    .dataframe tbody tr th {\n",
              "        vertical-align: top;\n",
              "    }\n",
              "\n",
              "    .dataframe thead th {\n",
              "        text-align: right;\n",
              "    }\n",
              "</style>\n",
              "<table border=\"1\" class=\"dataframe\">\n",
              "  <thead>\n",
              "    <tr style=\"text-align: right;\">\n",
              "      <th></th>\n",
              "      <th>AVG_MATH_4_SCORE</th>\n",
              "      <th>AVG_MATH_8_SCORE</th>\n",
              "      <th>AVG_READING_4_SCORE</th>\n",
              "      <th>AVG_READING_8_SCORE</th>\n",
              "    </tr>\n",
              "  </thead>\n",
              "  <tbody>\n",
              "    <tr>\n",
              "      <th>count</th>\n",
              "      <td>1918.000000</td>\n",
              "      <td>1918.000000</td>\n",
              "      <td>1918.000000</td>\n",
              "      <td>1918.000000</td>\n",
              "    </tr>\n",
              "    <tr>\n",
              "      <th>mean</th>\n",
              "      <td>234.797280</td>\n",
              "      <td>278.461453</td>\n",
              "      <td>218.897886</td>\n",
              "      <td>263.683325</td>\n",
              "    </tr>\n",
              "    <tr>\n",
              "      <th>std</th>\n",
              "      <td>5.388189</td>\n",
              "      <td>5.316907</td>\n",
              "      <td>4.074789</td>\n",
              "      <td>3.455097</td>\n",
              "    </tr>\n",
              "    <tr>\n",
              "      <th>min</th>\n",
              "      <td>187.134670</td>\n",
              "      <td>232.831510</td>\n",
              "      <td>178.557612</td>\n",
              "      <td>236.379102</td>\n",
              "    </tr>\n",
              "    <tr>\n",
              "      <th>25%</th>\n",
              "      <td>234.797280</td>\n",
              "      <td>278.461453</td>\n",
              "      <td>218.897886</td>\n",
              "      <td>263.683325</td>\n",
              "    </tr>\n",
              "    <tr>\n",
              "      <th>50%</th>\n",
              "      <td>234.797280</td>\n",
              "      <td>278.461453</td>\n",
              "      <td>218.897886</td>\n",
              "      <td>263.683325</td>\n",
              "    </tr>\n",
              "    <tr>\n",
              "      <th>75%</th>\n",
              "      <td>234.797280</td>\n",
              "      <td>278.461453</td>\n",
              "      <td>218.897886</td>\n",
              "      <td>263.683325</td>\n",
              "    </tr>\n",
              "    <tr>\n",
              "      <th>max</th>\n",
              "      <td>253.420961</td>\n",
              "      <td>300.568235</td>\n",
              "      <td>236.773867</td>\n",
              "      <td>280.499130</td>\n",
              "    </tr>\n",
              "  </tbody>\n",
              "</table>\n",
              "</div>"
            ],
            "text/plain": [
              "       AVG_MATH_4_SCORE  ...  AVG_READING_8_SCORE\n",
              "count       1918.000000  ...          1918.000000\n",
              "mean         234.797280  ...           263.683325\n",
              "std            5.388189  ...             3.455097\n",
              "min          187.134670  ...           236.379102\n",
              "25%          234.797280  ...           263.683325\n",
              "50%          234.797280  ...           263.683325\n",
              "75%          234.797280  ...           263.683325\n",
              "max          253.420961  ...           280.499130\n",
              "\n",
              "[8 rows x 4 columns]"
            ]
          },
          "metadata": {
            "tags": []
          },
          "execution_count": 24
        }
      ]
    },
    {
      "cell_type": "code",
      "metadata": {
        "id": "AHZJkw-g-Xvi",
        "colab_type": "code",
        "outputId": "1b4376d0-5b82-406d-9cb2-feaec5c455c0",
        "colab": {
          "base_uri": "https://localhost:8080/",
          "height": 297
        }
      },
      "source": [
        "states3[fill_list].describe()"
      ],
      "execution_count": 0,
      "outputs": [
        {
          "output_type": "execute_result",
          "data": {
            "text/html": [
              "<div>\n",
              "<style scoped>\n",
              "    .dataframe tbody tr th:only-of-type {\n",
              "        vertical-align: middle;\n",
              "    }\n",
              "\n",
              "    .dataframe tbody tr th {\n",
              "        vertical-align: top;\n",
              "    }\n",
              "\n",
              "    .dataframe thead th {\n",
              "        text-align: right;\n",
              "    }\n",
              "</style>\n",
              "<table border=\"1\" class=\"dataframe\">\n",
              "  <thead>\n",
              "    <tr style=\"text-align: right;\">\n",
              "      <th></th>\n",
              "      <th>AVG_MATH_4_SCORE</th>\n",
              "      <th>AVG_MATH_8_SCORE</th>\n",
              "      <th>AVG_READING_4_SCORE</th>\n",
              "      <th>AVG_READING_8_SCORE</th>\n",
              "    </tr>\n",
              "  </thead>\n",
              "  <tbody>\n",
              "    <tr>\n",
              "      <th>count</th>\n",
              "      <td>1918.000000</td>\n",
              "      <td>1918.000000</td>\n",
              "      <td>1918.000000</td>\n",
              "      <td>1918.000000</td>\n",
              "    </tr>\n",
              "    <tr>\n",
              "      <th>mean</th>\n",
              "      <td>236.576534</td>\n",
              "      <td>280.022070</td>\n",
              "      <td>220.013989</td>\n",
              "      <td>264.675753</td>\n",
              "    </tr>\n",
              "    <tr>\n",
              "      <th>std</th>\n",
              "      <td>5.500714</td>\n",
              "      <td>5.403925</td>\n",
              "      <td>4.133074</td>\n",
              "      <td>3.504619</td>\n",
              "    </tr>\n",
              "    <tr>\n",
              "      <th>min</th>\n",
              "      <td>187.134670</td>\n",
              "      <td>232.831510</td>\n",
              "      <td>178.557612</td>\n",
              "      <td>236.379102</td>\n",
              "    </tr>\n",
              "    <tr>\n",
              "      <th>25%</th>\n",
              "      <td>237.264821</td>\n",
              "      <td>280.619538</td>\n",
              "      <td>220.442392</td>\n",
              "      <td>265.022859</td>\n",
              "    </tr>\n",
              "    <tr>\n",
              "      <th>50%</th>\n",
              "      <td>237.264821</td>\n",
              "      <td>280.619538</td>\n",
              "      <td>220.442392</td>\n",
              "      <td>265.022859</td>\n",
              "    </tr>\n",
              "    <tr>\n",
              "      <th>75%</th>\n",
              "      <td>237.264821</td>\n",
              "      <td>280.619538</td>\n",
              "      <td>220.442392</td>\n",
              "      <td>265.022859</td>\n",
              "    </tr>\n",
              "    <tr>\n",
              "      <th>max</th>\n",
              "      <td>253.420961</td>\n",
              "      <td>300.568235</td>\n",
              "      <td>236.773867</td>\n",
              "      <td>280.499130</td>\n",
              "    </tr>\n",
              "  </tbody>\n",
              "</table>\n",
              "</div>"
            ],
            "text/plain": [
              "       AVG_MATH_4_SCORE  ...  AVG_READING_8_SCORE\n",
              "count       1918.000000  ...          1918.000000\n",
              "mean         236.576534  ...           264.675753\n",
              "std            5.500714  ...             3.504619\n",
              "min          187.134670  ...           236.379102\n",
              "25%          237.264821  ...           265.022859\n",
              "50%          237.264821  ...           265.022859\n",
              "75%          237.264821  ...           265.022859\n",
              "max          253.420961  ...           280.499130\n",
              "\n",
              "[8 rows x 4 columns]"
            ]
          },
          "metadata": {
            "tags": []
          },
          "execution_count": 25
        }
      ]
    },
    {
      "cell_type": "code",
      "metadata": {
        "id": "-XXZ_Rh8-ZSq",
        "colab_type": "code",
        "outputId": "d53bb4f0-96cd-4dd7-ce18-3f46745349f8",
        "colab": {
          "base_uri": "https://localhost:8080/",
          "height": 255
        }
      },
      "source": [
        "states4[fill_list].describe"
      ],
      "execution_count": 0,
      "outputs": [
        {
          "output_type": "execute_result",
          "data": {
            "text/plain": [
              "<bound method NDFrame.describe of       AVG_MATH_4_SCORE  ...  AVG_READING_8_SCORE\n",
              "0           208.327876  ...                  NaN\n",
              "1           211.790904  ...           258.859712\n",
              "2           215.253932  ...           262.169895\n",
              "3           210.206028  ...           264.619665\n",
              "4           208.398961  ...           265.519676\n",
              "...                ...  ...                  ...\n",
              "1913        244.243515  ...           262.720477\n",
              "1914        237.554934  ...           269.553823\n",
              "1915        234.043993  ...           265.767860\n",
              "1916        241.588947  ...           259.753002\n",
              "1917        236.057019  ...           271.617023\n",
              "\n",
              "[1918 rows x 4 columns]>"
            ]
          },
          "metadata": {
            "tags": []
          },
          "execution_count": 26
        }
      ]
    },
    {
      "cell_type": "markdown",
      "metadata": {
        "id": "BJx1UMs0UO-b",
        "colab_type": "text"
      },
      "source": [
        "In this case interpolation is more appropriate. "
      ]
    }
  ]
}