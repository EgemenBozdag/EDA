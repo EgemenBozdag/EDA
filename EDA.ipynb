{
  "nbformat": 4,
  "nbformat_minor": 0,
  "metadata": {
    "colab": {
      "name": "EDA.ipynb",
      "provenance": []
    },
    "kernelspec": {
      "name": "python3",
      "display_name": "Python 3"
    }
  },
  "cells": [
    {
      "cell_type": "code",
      "metadata": {
        "id": "w1cstiVvWGVR",
        "colab_type": "code",
        "colab": {}
      },
      "source": [
        ""
      ],
      "execution_count": 0,
      "outputs": []
    },
    {
      "cell_type": "markdown",
      "metadata": {
        "id": "zdx5GKcjWa9F",
        "colab_type": "text"
      },
      "source": [
        "Keşifsel Veri Analizinin amacı nedir?\n",
        "\n",
        "Bir e-ticaret şirketinin ürünlerine ait müşteri yorumlarını içeren bir veri kümesi üzerinde çalıştığınızı farz edin. Şirketin web sitesi aracılığıyla toplanan müşteri yorumları içeriğinin olumlu ya da olumsuz olmasına göre 1 ila 5 arasında derecelendirilmiştir.\n",
        "\n",
        "a. Bu ham veride ne tür problemlerle karşılaşmayı beklersiniz?\n",
        "\n",
        "b. Göreviniz müşterilerin yorumlarının olumlu yada olumsuz olduğunu ortaya çıkaran özellikleri belirlemek olsaydı nasıl bir yaplaşımda bulunur ve bunun için hangi metodları kullanırdınız?\n",
        "\n",
        "c. Ham veriden çıkarılabilecek yararlı özelliklerin neler olabilir? Bu verilere nasıl ulaşılabilirsiniz ve bunların faydalı olup olmayacağını nasıl anlayabilirsiniz?"
      ]
    },
    {
      "cell_type": "markdown",
      "metadata": {
        "id": "BNV3TRfRRdmz",
        "colab_type": "text"
      },
      "source": [
        "The main reason for EDA is to get initial insight of the data as well as making it easier to use for future analysis. "
      ]
    },
    {
      "cell_type": "markdown",
      "metadata": {
        "id": "73emeDAXWebr",
        "colab_type": "text"
      },
      "source": [
        "A- Possible issues: \n",
        "1- The tagging of related comments by the customers might be subjective and inconsistant (especially if the tagging is done by multiple people) \n",
        "2- Answers given to open ended questions can be subjective \n",
        "3- Not useful if there is a time constraint "
      ]
    },
    {
      "cell_type": "markdown",
      "metadata": {
        "id": "D3b1soDQXqjL",
        "colab_type": "text"
      },
      "source": [
        "B- Satisfaction structure\n",
        "1- After a reliable mapping the feedback by the customers can be checked for word or word groups (such as positive or negative words such as happy, satisified, good, bad, dissatsified, unhappy, etc.) frequencies to use as keywords (a sample can be used if the population is too hight. It is important to have gone through possible word groups and adverbs or phrasal words that can change the meaning such as \"not\" or \"give up/in/away\".\n",
        "2- The frequency ofthese words can be used to assess to get a general satisfaction\n"
      ]
    },
    {
      "cell_type": "markdown",
      "metadata": {
        "id": "Gr92xGlMZTgE",
        "colab_type": "text"
      },
      "source": [
        "C- Beneficial specifications: If further anlaysis such as looking for improvement points is necessary the same word (slow, ugly, broken, not useful, etc.) frequencies, after cleaning the data of inconsequential words, can be checked. Depending on the frequency of certain complaints the prioritization of improvements can be done"
      ]
    }
  ]
}